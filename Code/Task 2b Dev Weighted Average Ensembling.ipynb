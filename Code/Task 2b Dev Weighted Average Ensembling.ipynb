{
 "cells": [
  {
   "cell_type": "markdown",
   "metadata": {},
   "source": [
    "Leung Wai Liu <br>\n",
    "JPMC-SMM4H <br>\n",
    "July 14, 2022 <br>\n",
    "Task 2a Weighted Average Ensembling"
   ]
  },
  {
   "cell_type": "code",
   "execution_count": 11,
   "metadata": {},
   "outputs": [],
   "source": [
    "import pandas as pd\n",
    "import numpy as np\n",
    "from collections import Counter\n",
    "from labels_to_ids import task7_labels_to_ids\n",
    "from sklearn.metrics import accuracy_score, classification_report, f1_score, precision_score, recall_score, confusion_matrix\n",
    "from training_code import calculate_overall_performance_metrics\n",
    "import os"
   ]
  },
  {
   "cell_type": "code",
   "execution_count": 12,
   "metadata": {},
   "outputs": [
    {
     "data": {
      "text/html": [
       "<div>\n",
       "<style scoped>\n",
       "    .dataframe tbody tr th:only-of-type {\n",
       "        vertical-align: middle;\n",
       "    }\n",
       "\n",
       "    .dataframe tbody tr th {\n",
       "        vertical-align: top;\n",
       "    }\n",
       "\n",
       "    .dataframe thead th {\n",
       "        text-align: right;\n",
       "    }\n",
       "</style>\n",
       "<table border=\"1\" class=\"dataframe\">\n",
       "  <thead>\n",
       "    <tr style=\"text-align: right;\">\n",
       "      <th></th>\n",
       "      <th>Unnamed: 0</th>\n",
       "      <th>bert-large-uncased</th>\n",
       "      <th>roberta-large</th>\n",
       "    </tr>\n",
       "  </thead>\n",
       "  <tbody>\n",
       "    <tr>\n",
       "      <th>0</th>\n",
       "      <td>0</td>\n",
       "      <td>0.669132</td>\n",
       "      <td>0.728242</td>\n",
       "    </tr>\n",
       "    <tr>\n",
       "      <th>1</th>\n",
       "      <td>1</td>\n",
       "      <td>0.712224</td>\n",
       "      <td>0.768425</td>\n",
       "    </tr>\n",
       "    <tr>\n",
       "      <th>2</th>\n",
       "      <td>2</td>\n",
       "      <td>0.672260</td>\n",
       "      <td>0.742091</td>\n",
       "    </tr>\n",
       "    <tr>\n",
       "      <th>3</th>\n",
       "      <td>3</td>\n",
       "      <td>0.664599</td>\n",
       "      <td>0.743203</td>\n",
       "    </tr>\n",
       "    <tr>\n",
       "      <th>4</th>\n",
       "      <td>4</td>\n",
       "      <td>0.693286</td>\n",
       "      <td>0.745573</td>\n",
       "    </tr>\n",
       "  </tbody>\n",
       "</table>\n",
       "</div>"
      ],
      "text/plain": [
       "   Unnamed: 0  bert-large-uncased  roberta-large\n",
       "0           0            0.669132       0.728242\n",
       "1           1            0.712224       0.768425\n",
       "2           2            0.672260       0.742091\n",
       "3           3            0.664599       0.743203\n",
       "4           4            0.693286       0.745573"
      ]
     },
     "execution_count": 12,
     "metadata": {},
     "output_type": "execute_result"
    }
   ],
   "source": [
    "# Loading up all the predictions data\n",
    "\n",
    "n_rnds = 5\n",
    "original_df = pd.read_csv('../Datasets/dev.tsv', sep='\\t')\n",
    "models = ['bert-large-uncased', 'roberta-large']\n",
    "n_models = len(models)\n",
    "\n",
    "epoch_string = '../20_epochs_large_model/eval_testing/saved_eval_test_result_2a'\n",
    "n_rows = len(original_df)\n",
    "\n",
    "labels_to_ids = task7_labels_to_ids\n",
    "ids_to_labels = dict((v,k) for k,v in labels_to_ids.items())\n",
    "\n",
    "# Loading up all of the results\n",
    "best_f1 = pd.read_csv('../20_epochs_large_model/eval_testing/validation_stats/all_best_overall_f1_score.tsv', sep='\\t')\n",
    "best_f1\n",
    "\n"
   ]
  },
  {
   "cell_type": "code",
   "execution_count": 13,
   "metadata": {},
   "outputs": [],
   "source": [
    "# Retrieving all the predictions from the \n",
    "list_of_df = []\n",
    "list_of_f1_score = []\n",
    "sum_of_all_f1_score = 0\n",
    "\n",
    "for model in models: \n",
    "    specific_model_row = []\n",
    "    specific_model_row_f1 = []\n",
    "    for rnd in range(n_rnds):\n",
    "        to_read_string = epoch_string + '/' + model + '/' + str(rnd) + '/unformatted_eval_test_result.tsv'\n",
    "        \n",
    "        specific_f1_score = best_f1.at[rnd, model]\n",
    "        specific_model_row_f1.append(specific_f1_score)\n",
    "        sum_of_all_f1_score += specific_f1_score\n",
    "        \n",
    "        particular_model_df = pd.read_csv(to_read_string, sep='\\t')\n",
    "        specific_model_row.append(particular_model_df)\n",
    "    \n",
    "    list_of_df.append(specific_model_row)\n",
    "    list_of_f1_score.append(specific_model_row_f1)\n"
   ]
  },
  {
   "cell_type": "code",
   "execution_count": 14,
   "metadata": {},
   "outputs": [],
   "source": [
    "# TAKING THE WEIGHTED AVERAGE OF DATA\n",
    "\n",
    "weighted_avg_original_tweet_id_list = []\n",
    "weighted_avg_original_sentence_list = []\n",
    "weighted_avg_original_claim_list = []\n",
    "weighted_avg_original_label_list = []\n",
    "weighted_avg_original_numbered_label_list = []\n",
    "\n",
    "weighted_avg_predicted_number_results = []\n",
    "weighted_avg_predicted_results = []\n",
    "\n",
    "\n",
    "for index, row in original_df.iterrows(): \n",
    "    # getting the original values in the tweet\n",
    "    original_tweet_id = row['id']\n",
    "    original_sentence = row['Tweet']\n",
    "    original_claim = row['Claim']\n",
    "    original_label = row['Stance']\n",
    "    \n",
    "    # transferring the labels over to final list\n",
    "    weighted_avg_original_tweet_id_list.append(original_tweet_id)\n",
    "    weighted_avg_original_sentence_list.append(original_sentence)\n",
    "    weighted_avg_original_claim_list.append(original_claim)\n",
    "    weighted_avg_original_label_list.append(original_label)\n",
    "    \n",
    "    specific_row_value = 0.0\n",
    "    # go through every models' row of data \n",
    "    \n",
    "    for model_num in range(n_models):\n",
    "        for rnd_num in range(n_rnds):\n",
    "\n",
    "            particular_row_df = list_of_df[model_num][rnd_num]\n",
    "            row = particular_row_df.loc[(particular_row_df['id'] == original_tweet_id) & (particular_row_df['text'] == original_sentence)]\n",
    "\n",
    "            prediction = labels_to_ids[row['Stance'].values[0]] * list_of_f1_score[model_num][rnd_num]\n",
    "            specific_row_value += prediction\n",
    "\n",
    "    specific_row_value = specific_row_value / sum_of_all_f1_score\n",
    "    specific_row_result = int(round(specific_row_value))\n",
    "    weighted_avg_predicted_results.append(ids_to_labels[specific_row_result])\n",
    "    "
   ]
  },
  {
   "cell_type": "code",
   "execution_count": 15,
   "metadata": {},
   "outputs": [
    {
     "name": "stdout",
     "output_type": "stream",
     "text": [
      "Running performance metrics\n",
      "Finished running performance metrics\n",
      "ACCURACY: 0.7733333333333333\n",
      "F1: 0.7451833739609388\n"
     ]
    }
   ],
   "source": [
    "# Calculating sklearn metrics\n",
    "\n",
    "weighted_avg_original_numbered_label_list = [labels_to_ids[label] for label in weighted_avg_original_label_list]\n",
    "weighted_avg_predicted_number_results = [labels_to_ids[label] for label in weighted_avg_predicted_results]\n",
    "\n",
    "num_overall_prediction_data = pd.DataFrame(zip(weighted_avg_original_tweet_id_list, weighted_avg_original_sentence_list, weighted_avg_original_claim_list, weighted_avg_original_numbered_label_list, weighted_avg_predicted_number_results), columns=['tweet_id', 'text', 'Claim', 'Orig', 'Stance'])\n",
    "\n",
    "fm_f1_score, fm_precision, fm_recall, saho_f1_score, saho_precision, saho_recall, sc_f1_score, sc_precision, sc_recall = calculate_overall_performance_metrics(num_overall_prediction_data)\n",
    "\n",
    "accuracy_result = accuracy_score(weighted_avg_original_numbered_label_list, weighted_avg_predicted_number_results)\n",
    "\n",
    "net_f1 = (1.0/3.0) * (fm_f1_score + saho_f1_score + sc_f1_score)\n",
    "\n",
    "print(\"ACCURACY:\", accuracy_result)\n",
    "print(\"F1:\", net_f1)\n",
    "\n",
    "# Saving results to file\n",
    "os.makedirs('../20_epochs_large_model/eval_testing/eval_validation_statistics/weighted_avg_ensemble', exist_ok=True)\n",
    "\n",
    "with open('../20_epochs_large_model/eval_testing/eval_validation_statistics/weighted_avg_ensemble/weighted_avg_ensemble_valid_stats.txt', 'w') as file:\n",
    "        file.write(\"Accuracy: \" + str(accuracy_result) + \"\\n\")\n",
    "        file.write(\"Net F1: \" + str(net_f1) + \"\\n\")\n",
    "        file.write(\"Ind F1 Score: \" + str(fm_f1_score) + \" , \" + str(saho_f1_score) + \" , \" + str(sc_f1_score) + \"\\n\")\n",
    "        file.write(\"Ind Precision Score: \" + str(fm_precision) + \" , \" + str(saho_precision) + \" , \" + str(sc_precision) + \"\\n\")\n",
    "        file.write(\"Ind Recall Score: \" + str(fm_recall) + \" , \" + str(saho_recall) + \" , \" + str(sc_recall) + \"\\n\")\n"
   ]
  },
  {
   "cell_type": "code",
   "execution_count": 16,
   "metadata": {},
   "outputs": [],
   "source": [
    "# Saving it as a dataframe\n",
    "unformatted_weighted_avg_prediction_data = pd.DataFrame(zip(weighted_avg_original_tweet_id_list, weighted_avg_original_sentence_list, weighted_avg_original_claim_list, weighted_avg_original_label_list, weighted_avg_predicted_results), columns=['id', 'text', 'Claim', 'Orig', 'Stance'])\n",
    "formatted_weighted_avg_prediction_data = unformatted_weighted_avg_prediction_data.drop(columns = ['Orig'])\n",
    "\n",
    "# Saving it as a tsv file\n",
    "os.makedirs('../20_epochs_large_model/eval_testing/eval_validation_statistics/', exist_ok=True)\n",
    "unformatted_weighted_avg_prediction_data.to_csv('../20_epochs_large_model/eval_testing/eval_validation_statistics/weighted_avg_ensemble/unformatted_weighted_avg_data.tsv', sep='\\t', index=False)\n",
    "formatted_weighted_avg_prediction_data.to_csv('../20_epochs_large_model/eval_testing/eval_validation_statistics/weighted_avg_ensemble/formatted_weighted_avg_data.tsv', sep='\\t', index=False)"
   ]
  }
 ],
 "metadata": {
  "kernelspec": {
   "display_name": "Python 3.6.9 64-bit",
   "language": "python",
   "name": "python3"
  },
  "language_info": {
   "codemirror_mode": {
    "name": "ipython",
    "version": 3
   },
   "file_extension": ".py",
   "mimetype": "text/x-python",
   "name": "python",
   "nbconvert_exporter": "python",
   "pygments_lexer": "ipython3",
   "version": "3.6.9"
  },
  "orig_nbformat": 4,
  "vscode": {
   "interpreter": {
    "hash": "31f2aee4e71d21fbe5cf8b01ff0e069b9275f58929596ceb00d14d90e3e16cd6"
   }
  }
 },
 "nbformat": 4,
 "nbformat_minor": 2
}
