{
 "cells": [
  {
   "cell_type": "markdown",
   "metadata": {},
   "source": [
    "Leung Wai Liu <br>\n",
    "JPMC-SMM4H <br>\n",
    "July 14, 2022 <br>\n",
    "Task 2a Unweighted Average Ensembling"
   ]
  },
  {
   "cell_type": "code",
   "execution_count": 11,
   "metadata": {},
   "outputs": [],
   "source": [
    "import pandas as pd\n",
    "import numpy as np\n",
    "from collections import Counter\n",
    "from labels_to_ids import task7_labels_to_ids\n",
    "from sklearn.metrics import accuracy_score, classification_report, f1_score, precision_score, recall_score, confusion_matrix\n",
    "from training_code import calculate_overall_performance_metrics\n",
    "import os"
   ]
  },
  {
   "cell_type": "code",
   "execution_count": 12,
   "metadata": {},
   "outputs": [],
   "source": [
    "# Loading up all the predictions data\n",
    "\n",
    "n_rnds = 5\n",
    "original_df = pd.read_csv('../Datasets/dev.tsv', sep='\\t')\n",
    "models = ['bert-large-uncased', 'roberta-large']\n",
    "n_models = len(models)\n",
    "\n",
    "epoch_string = '../20_epochs_large_model/eval_testing/saved_eval_test_result_2a'\n",
    "n_rows = len(original_df)\n",
    "\n",
    "labels_to_ids = task7_labels_to_ids\n",
    "ids_to_labels = dict((v,k) for k,v in labels_to_ids.items())\n",
    "\n"
   ]
  },
  {
   "cell_type": "code",
   "execution_count": 13,
   "metadata": {},
   "outputs": [],
   "source": [
    "# Retrieving all the predictions from the \n",
    "list_of_df = []\n",
    "list_of_f1_score = []\n",
    "sum_of_all_f1_score = 0\n",
    "\n",
    "for model in models: \n",
    "    specific_model_row = []\n",
    "    specific_model_row_f1 = []\n",
    "    for rnd in range(n_rnds):\n",
    "        to_read_string = epoch_string + '/' + model + '/' + str(rnd) + '/unformatted_eval_test_result.tsv'\n",
    "            \n",
    "        particular_model_df = pd.read_csv(to_read_string, sep='\\t')\n",
    "        specific_model_row.append(particular_model_df)\n",
    "    \n",
    "    list_of_df.append(specific_model_row)"
   ]
  },
  {
   "cell_type": "code",
   "execution_count": 14,
   "metadata": {},
   "outputs": [],
   "source": [
    "# TAKING THE UNWEIGHTED AVERAGE OF DATA\n",
    "\n",
    "uw_avg_original_tweet_id_list = []\n",
    "uw_avg_original_sentence_list = []\n",
    "uw_avg_original_claim_list = []\n",
    "uw_avg_original_label_list = []\n",
    "uw_avg_original_numbered_label_list = []\n",
    "\n",
    "uw_avg_predicted_number_results = []\n",
    "uw_avg_predicted_results = []\n",
    "\n",
    "\n",
    "for index, row in original_df.iterrows(): \n",
    "    # getting the original values in the tweet\n",
    "    original_tweet_id = row['id']\n",
    "    original_sentence = row['Tweet']\n",
    "    original_claim = row['Claim']\n",
    "    original_label = row['Stance']\n",
    "    \n",
    "    # transferring the labels over to final list\n",
    "    uw_avg_original_tweet_id_list.append(original_tweet_id)\n",
    "    uw_avg_original_sentence_list.append(original_sentence)\n",
    "    uw_avg_original_claim_list.append(original_claim)\n",
    "    uw_avg_original_label_list.append(original_label)\n",
    "    \n",
    "    specific_row_value = 0\n",
    "    # go through every models' row of data \n",
    "    \n",
    "    for model_num in range(n_models):\n",
    "        for rnd_num in range(n_rnds):\n",
    "            # print(list_of_df[model_num][rnd_num])\n",
    "            row = list_of_df[model_num][rnd_num].loc[(list_of_df[model_num][rnd_num]['id'] == original_tweet_id) & (list_of_df[model_num][rnd_num]['text'] == original_sentence)]\n",
    "            \n",
    "            prediction = labels_to_ids[row['Stance'].values[0]]\n",
    "            specific_row_value += prediction\n",
    "\n",
    "    specific_row_value = specific_row_value / 10\n",
    "    specific_row_result = int(round(specific_row_value))\n",
    "    uw_avg_predicted_results.append(ids_to_labels[specific_row_result])\n",
    "    "
   ]
  },
  {
   "cell_type": "code",
   "execution_count": 15,
   "metadata": {},
   "outputs": [
    {
     "name": "stdout",
     "output_type": "stream",
     "text": [
      "Running performance metrics\n",
      "Finished running performance metrics\n",
      "ACCURACY: 0.7683333333333333\n",
      "F1: 0.7387175248890282\n"
     ]
    }
   ],
   "source": [
    "# Calculating sklearn metrics\n",
    "\n",
    "uw_avg_original_numbered_label_list = [labels_to_ids[label] for label in uw_avg_original_label_list]\n",
    "uw_avg_predicted_number_results = [labels_to_ids[label] for label in uw_avg_predicted_results]\n",
    "\n",
    "num_overall_prediction_data = pd.DataFrame(zip(uw_avg_original_tweet_id_list, uw_avg_original_sentence_list, uw_avg_original_claim_list, uw_avg_original_numbered_label_list, uw_avg_predicted_number_results), columns=['tweet_id', 'text', 'Claim', 'Orig', 'Stance'])\n",
    "\n",
    "fm_f1_score, fm_precision, fm_recall, saho_f1_score, saho_precision, saho_recall, sc_f1_score, sc_precision, sc_recall = calculate_overall_performance_metrics(num_overall_prediction_data)\n",
    "\n",
    "accuracy_result = accuracy_score(uw_avg_original_numbered_label_list, uw_avg_predicted_number_results)\n",
    "\n",
    "net_f1 = (1.0/3.0) * (fm_f1_score + saho_f1_score + sc_f1_score)\n",
    "\n",
    "print(\"ACCURACY:\", accuracy_result)\n",
    "print(\"F1:\", net_f1)\n",
    "\n",
    "# Saving results to file\n",
    "os.makedirs('../20_epochs_large_model/eval_testing/eval_validation_statistics/uw_avg_ensemble', exist_ok=True)\n",
    "\n",
    "with open('../20_epochs_large_model/eval_testing/eval_validation_statistics/uw_avg_ensemble/uw_avg_ensemble_valid_stats.txt', 'w') as file:\n",
    "        file.write(\"Accuracy: \" + str(accuracy_result) + \"\\n\")\n",
    "        file.write(\"Net F1: \" + str(net_f1) + \"\\n\")\n",
    "        file.write(\"Ind F1 Score: \" + str(fm_f1_score) + \" , \" + str(saho_f1_score) + \" , \" + str(sc_f1_score) + \"\\n\")\n",
    "        file.write(\"Ind Precision Score: \" + str(fm_precision) + \" , \" + str(saho_precision) + \" , \" + str(sc_precision) + \"\\n\")\n",
    "        file.write(\"Ind Recall Score: \" + str(fm_recall) + \" , \" + str(saho_recall) + \" , \" + str(sc_recall) + \"\\n\")\n"
   ]
  },
  {
   "cell_type": "code",
   "execution_count": 16,
   "metadata": {},
   "outputs": [],
   "source": [
    "# Saving it as a dataframe\n",
    "unformatted_uw_avg_prediction_data = pd.DataFrame(zip(uw_avg_original_tweet_id_list, uw_avg_original_sentence_list, uw_avg_original_claim_list, uw_avg_original_label_list, uw_avg_predicted_results), columns=['id', 'text', 'Claim', 'Orig', 'Stance'])\n",
    "formatted_uw_avg_prediction_data = unformatted_uw_avg_prediction_data.drop(columns = ['Orig'])\n",
    "\n",
    "# Saving it as a tsv file\n",
    "os.makedirs('../20_epochs_large_model/eval_testing/eval_validation_statistics/', exist_ok=True)\n",
    "unformatted_uw_avg_prediction_data.to_csv('../20_epochs_large_model/eval_testing/eval_validation_statistics/uw_avg_ensemble/unformatted_uw_avg_data.tsv', sep='\\t', index=False)\n",
    "formatted_uw_avg_prediction_data.to_csv('../20_epochs_large_model/eval_testing/eval_validation_statistics/uw_avg_ensemble/formatted_uw_avg_data.tsv', sep='\\t', index=False)"
   ]
  }
 ],
 "metadata": {
  "kernelspec": {
   "display_name": "Python 3.6.9 64-bit",
   "language": "python",
   "name": "python3"
  },
  "language_info": {
   "codemirror_mode": {
    "name": "ipython",
    "version": 3
   },
   "file_extension": ".py",
   "mimetype": "text/x-python",
   "name": "python",
   "nbconvert_exporter": "python",
   "pygments_lexer": "ipython3",
   "version": "3.6.9"
  },
  "orig_nbformat": 4,
  "vscode": {
   "interpreter": {
    "hash": "31f2aee4e71d21fbe5cf8b01ff0e069b9275f58929596ceb00d14d90e3e16cd6"
   }
  }
 },
 "nbformat": 4,
 "nbformat_minor": 2
}
